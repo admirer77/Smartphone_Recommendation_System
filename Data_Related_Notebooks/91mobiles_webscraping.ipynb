{
 "cells": [
  {
   "cell_type": "code",
   "execution_count": 1,
   "metadata": {},
   "outputs": [],
   "source": [
    "import csv\n",
    "import time\n",
    "from selenium import webdriver\n",
    "from selenium.webdriver.common.by import By\n",
    "from selenium.webdriver.support.ui import WebDriverWait\n",
    "from selenium.webdriver.support import expected_conditions as EC\n",
    "from bs4 import BeautifulSoup"
   ]
  },
  {
   "cell_type": "code",
   "execution_count": 2,
   "metadata": {},
   "outputs": [],
   "source": [
    "def scrape_smartphones(url, max_pages=None):\n",
    "    data = []\n",
    "    driver = webdriver.Chrome()\n",
    "    driver.get(url)\n",
    "    wait = WebDriverWait(driver, 10)\n",
    "    \n",
    "    page_number = 1\n",
    "    while True:\n",
    "        wait.until(EC.visibility_of_element_located((By.CLASS_NAME, 'filter')))\n",
    "        soup = BeautifulSoup(driver.page_source, 'html.parser')\n",
    "        \n",
    "        smartphones = soup.find_all('div', class_='filter filer_finder')\n",
    "        for phone in smartphones:\n",
    "            name_element = phone.find('a', class_='hover_blue_link name gaclick')\n",
    "            os_element = phone.find('div', class_='os_icon_cat')\n",
    "            price_element = phone.find('span', class_='price price_padding')\n",
    "            rating_element = phone.find('div', class_='rating_box_new_list')\n",
    "            if name_element:\n",
    "                name = name_element.text.strip()\n",
    "            else:\n",
    "                name = \"N/A\"\n",
    "            if os_element:\n",
    "                os = os_element.text.strip()\n",
    "            else:\n",
    "                os = \"N/A\"\n",
    "            \n",
    "            if price_element:\n",
    "                price = price_element.text.strip()\n",
    "            else:\n",
    "                price = \"N/A\"\n",
    "\n",
    "            if rating_element:\n",
    "                rating = rating_element.text.strip()\n",
    "            else:\n",
    "                price = \"N/A\"\n",
    "            \n",
    "            specs_container = phone.find('div', class_='filter-grey-bar filter_gray_bar_margin grey_bar_custpage')\n",
    "            specs_containers = specs_container.find_all('div', class_='left specs_li')\n",
    "            specs = []\n",
    "            for specs_cont in specs_containers:\n",
    "                specs_list = specs_cont.find_all('label')\n",
    "                specs.append('\\n'.join([spec['title'] for spec in specs_list]))\n",
    "\n",
    "            data.append({'Name': name,'OS' : os,'Price' : price, 'Specs': '\\n\\n'.join(specs), '91 mobiles rating' : rating})\n",
    "            \n",
    "        if max_pages and page_number >= max_pages:\n",
    "            break\n",
    "        \n",
    "        try:\n",
    "            # Scroll to the bottom of the page to load more items\n",
    "            driver.execute_script(\"window.scrollTo(0, document.body.scrollHeight);\")\n",
    "            time.sleep(2)  # Wait for the content to load\n",
    "            page_number += 1\n",
    "        except Exception as e:\n",
    "            print(f\"Error scrolling: {e}\")\n",
    "            break\n",
    "    \n",
    "    driver.quit()\n",
    "    return data\n"
   ]
  },
  {
   "cell_type": "code",
   "execution_count": 3,
   "metadata": {},
   "outputs": [],
   "source": [
    "def save_to_csv(data, filename):\n",
    "    with open(filename, 'w', newline='', encoding='utf-8') as csvfile:\n",
    "        fieldnames = ['Name','OS','Price','Specs','91 mobiles rating']\n",
    "        writer = csv.DictWriter(csvfile, fieldnames=fieldnames)\n",
    "        writer.writeheader()\n",
    "        for item in data:\n",
    "            writer.writerow(item)"
   ]
  },
  {
   "cell_type": "code",
   "execution_count": 4,
   "metadata": {},
   "outputs": [],
   "source": [
    "if __name__ == '__main__':\n",
    "    base_url = 'https://www.91mobiles.com/samsung-mobile-price-list-in-india'\n",
    "    filename = 'Samsung.csv'\n",
    "    data = scrape_smartphones(base_url, max_pages=20)\n",
    "    save_to_csv(data, filename)"
   ]
  },
  {
   "cell_type": "code",
   "execution_count": 5,
   "metadata": {},
   "outputs": [],
   "source": [
    "if __name__ == '__main__':\n",
    "    base_url = 'https://www.91mobiles.com/realme-mobile-price-list-in-india'  # Replace with the actual base URL\n",
    "    filename = 'Realme.csv'\n",
    "    data = scrape_smartphones(base_url, max_pages=20)\n",
    "    save_to_csv(data, filename)\n"
   ]
  },
  {
   "cell_type": "code",
   "execution_count": 6,
   "metadata": {},
   "outputs": [],
   "source": [
    "if __name__ == '__main__':\n",
    "    base_url = 'https://www.91mobiles.com/vivo-mobile-price-list-in-india'  # Replace with the actual base URL\n",
    "    filename = 'Vivo.csv'\n",
    "    data = scrape_smartphones(base_url, max_pages=20)\n",
    "    save_to_csv(data, filename)\n"
   ]
  },
  {
   "cell_type": "code",
   "execution_count": 7,
   "metadata": {},
   "outputs": [],
   "source": [
    "if __name__ == '__main__':\n",
    "    base_url = 'https://www.91mobiles.com/oneplus-mobile-price-list-in-india'  # Replace with the actual base URL\n",
    "    filename = 'Oneplus.csv'\n",
    "    data = scrape_smartphones(base_url, max_pages=20)\n",
    "    save_to_csv(data, filename)\n"
   ]
  },
  {
   "cell_type": "code",
   "execution_count": 8,
   "metadata": {},
   "outputs": [],
   "source": [
    "if __name__ == '__main__':\n",
    "    base_url = 'https://www.91mobiles.com/xiaomi-mobile-price-list-in-india'  # Replace with the actual base URL\n",
    "    filename = 'Redmi.csv'\n",
    "    data = scrape_smartphones(base_url, max_pages=20)\n",
    "    save_to_csv(data, filename)\n"
   ]
  },
  {
   "cell_type": "code",
   "execution_count": 9,
   "metadata": {},
   "outputs": [],
   "source": [
    "if __name__ == '__main__':\n",
    "    base_url = 'https://www.91mobiles.com/apple-mobile-price-list-in-india'  # Replace with the actual base URL\n",
    "    filename = 'Apple.csv'\n",
    "    data = scrape_smartphones(base_url, max_pages=20)\n",
    "    save_to_csv(data, filename)"
   ]
  }
 ],
 "metadata": {
  "kernelspec": {
   "display_name": "base",
   "language": "python",
   "name": "python3"
  },
  "language_info": {
   "codemirror_mode": {
    "name": "ipython",
    "version": 3
   },
   "file_extension": ".py",
   "mimetype": "text/x-python",
   "name": "python",
   "nbconvert_exporter": "python",
   "pygments_lexer": "ipython3",
   "version": "3.11.5"
  }
 },
 "nbformat": 4,
 "nbformat_minor": 2
}
