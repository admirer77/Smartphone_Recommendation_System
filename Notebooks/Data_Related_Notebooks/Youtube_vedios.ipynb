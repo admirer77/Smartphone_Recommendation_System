{
 "cells": [
  {
   "cell_type": "code",
   "execution_count": 1,
   "metadata": {},
   "outputs": [],
   "source": [
    "from googleapiclient.discovery import build\n",
    "\n",
    "# Replace 'YOUR_API_KEY' with your actual API key\n",
    "API_KEY = 'xxx'\n",
    "youtube = build('youtube', 'v3', developerKey=API_KEY)\n"
   ]
  },
  {
   "cell_type": "code",
   "execution_count": 2,
   "metadata": {},
   "outputs": [],
   "source": [
    "def search_videos(query, max_results=10):\n",
    "    request = youtube.search().list(\n",
    "        part='snippet',\n",
    "        q=query,\n",
    "        type='video',\n",
    "        maxResults=max_results\n",
    "    )\n",
    "    response = request.execute()\n",
    "    return response['items']\n",
    "\n",
    "query = 'iPhone 13 review'  # Change this to the smartphone model you want to search for\n",
    "videos = search_videos(query)\n"
   ]
  },
  {
   "cell_type": "code",
   "execution_count": 3,
   "metadata": {},
   "outputs": [
    {
     "data": {
      "text/markdown": [
       "![Apple iPhone 13 Review - What Apple Didn&#39;t tell you !](https://i.ytimg.com/vi/Zak0XAGVm4c/default.jpg)\n",
       "[Apple iPhone 13 Review - What Apple Didn&#39;t tell you !](https://www.youtube.com/watch?v=Zak0XAGVm4c)"
      ],
      "text/plain": [
       "<IPython.core.display.Markdown object>"
      ]
     },
     "metadata": {},
     "output_type": "display_data"
    },
    {
     "data": {
      "text/markdown": [
       "![iPhone 13 Review: Lowkey Great!](https://i.ytimg.com/vi/g5ymJNLURRI/default.jpg)\n",
       "[iPhone 13 Review: Lowkey Great!](https://www.youtube.com/watch?v=g5ymJNLURRI)"
      ],
      "text/plain": [
       "<IPython.core.display.Markdown object>"
      ]
     },
     "metadata": {},
     "output_type": "display_data"
    },
    {
     "data": {
      "text/markdown": [
       "![Watch This Before Buying iPhone 13 in 2024 | Review After 2.5 Years | Mohit Balani](https://i.ytimg.com/vi/6X0xZkYmN0U/default.jpg)\n",
       "[Watch This Before Buying iPhone 13 in 2024 | Review After 2.5 Years | Mohit Balani](https://www.youtube.com/watch?v=6X0xZkYmN0U)"
      ],
      "text/plain": [
       "<IPython.core.display.Markdown object>"
      ]
     },
     "metadata": {},
     "output_type": "display_data"
    },
    {
     "data": {
      "text/markdown": [
       "![iPhone 13 vs iPhone 15 - Months Later](https://i.ytimg.com/vi/LBR6BjLle1s/default.jpg)\n",
       "[iPhone 13 vs iPhone 15 - Months Later](https://www.youtube.com/watch?v=LBR6BjLle1s)"
      ],
      "text/plain": [
       "<IPython.core.display.Markdown object>"
      ]
     },
     "metadata": {},
     "output_type": "display_data"
    },
    {
     "data": {
      "text/markdown": [
       "![iPhone 13 vs 14 in 2024? which one Should You Buy Let&#39;s Find Out | Mohit Balani](https://i.ytimg.com/vi/aprHPbFsuY8/default.jpg)\n",
       "[iPhone 13 vs 14 in 2024? which one Should You Buy Let&#39;s Find Out | Mohit Balani](https://www.youtube.com/watch?v=aprHPbFsuY8)"
      ],
      "text/plain": [
       "<IPython.core.display.Markdown object>"
      ]
     },
     "metadata": {},
     "output_type": "display_data"
    },
    {
     "data": {
      "text/markdown": [
       "![iPhone 13 in 2024: Is it Still Worth Buying? Camera, Battery, Performance &amp; Gaming | iPhone 13](https://i.ytimg.com/vi/FfpWgcfOGyo/default.jpg)\n",
       "[iPhone 13 in 2024: Is it Still Worth Buying? Camera, Battery, Performance &amp; Gaming | iPhone 13](https://www.youtube.com/watch?v=FfpWgcfOGyo)"
      ],
      "text/plain": [
       "<IPython.core.display.Markdown object>"
      ]
     },
     "metadata": {},
     "output_type": "display_data"
    },
    {
     "data": {
      "text/markdown": [
       "![Is iPhone 13 🔥🔥 still good in 2024? | Unboxing, Review, Camera Test, Gaming Test, | Starlight](https://i.ytimg.com/vi/UBO7WbbgfmE/default.jpg)\n",
       "[Is iPhone 13 🔥🔥 still good in 2024? | Unboxing, Review, Camera Test, Gaming Test, | Starlight](https://www.youtube.com/watch?v=UBO7WbbgfmE)"
      ],
      "text/plain": [
       "<IPython.core.display.Markdown object>"
      ]
     },
     "metadata": {},
     "output_type": "display_data"
    },
    {
     "data": {
      "text/markdown": [
       "![iPhone 13 - What was Apple Thinking?](https://i.ytimg.com/vi/WeFmNJikaxg/default.jpg)\n",
       "[iPhone 13 - What was Apple Thinking?](https://www.youtube.com/watch?v=WeFmNJikaxg)"
      ],
      "text/plain": [
       "<IPython.core.display.Markdown object>"
      ]
     },
     "metadata": {},
     "output_type": "display_data"
    },
    {
     "data": {
      "text/markdown": [
       "![iPhone 13 Review in 2023? is it worth? 5G, Gaming, Camera, Battery &amp; Performance | Mohit Balani](https://i.ytimg.com/vi/lSYhEhlrons/default.jpg)\n",
       "[iPhone 13 Review in 2023? is it worth? 5G, Gaming, Camera, Battery &amp; Performance | Mohit Balani](https://www.youtube.com/watch?v=lSYhEhlrons)"
      ],
      "text/plain": [
       "<IPython.core.display.Markdown object>"
      ]
     },
     "metadata": {},
     "output_type": "display_data"
    },
    {
     "data": {
      "text/markdown": [
       "![Apple iPhone 13 review](https://i.ytimg.com/vi/rz_rus8Vg6Q/default.jpg)\n",
       "[Apple iPhone 13 review](https://www.youtube.com/watch?v=rz_rus8Vg6Q)"
      ],
      "text/plain": [
       "<IPython.core.display.Markdown object>"
      ]
     },
     "metadata": {},
     "output_type": "display_data"
    }
   ],
   "source": [
    "from IPython.display import Markdown, display\n",
    "\n",
    "# Assuming the previous code for setting up the YouTube API client and searching for videos is already present\n",
    "\n",
    "# Display the search results\n",
    "for video in videos:\n",
    "    title = video['snippet']['title']\n",
    "    video_id = video['id']['videoId']\n",
    "    thumbnail = video['snippet']['thumbnails']['default']['url']\n",
    "    display(Markdown(f'![{title}]({thumbnail})\\n[{title}](https://www.youtube.com/watch?v={video_id})'))\n"
   ]
  },
  {
   "cell_type": "code",
   "execution_count": null,
   "metadata": {},
   "outputs": [],
   "source": []
  }
 ],
 "metadata": {
  "kernelspec": {
   "display_name": "base",
   "language": "python",
   "name": "python3"
  },
  "language_info": {
   "codemirror_mode": {
    "name": "ipython",
    "version": 3
   },
   "file_extension": ".py",
   "mimetype": "text/x-python",
   "name": "python",
   "nbconvert_exporter": "python",
   "pygments_lexer": "ipython3",
   "version": "3.11.5"
  }
 },
 "nbformat": 4,
 "nbformat_minor": 2
}
