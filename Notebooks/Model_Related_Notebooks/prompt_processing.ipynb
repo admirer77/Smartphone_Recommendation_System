{
 "cells": [
  {
   "cell_type": "code",
   "execution_count": 2,
   "metadata": {},
   "outputs": [],
   "source": [
    "import google.generativeai as genai\n",
    "import pandas as pd"
   ]
  },
  {
   "cell_type": "code",
   "execution_count": 3,
   "metadata": {},
   "outputs": [],
   "source": [
    "f = open(r'M:\\Pat_Mini_Project\\Gemini_API_Key.txt')"
   ]
  },
  {
   "cell_type": "code",
   "execution_count": 4,
   "metadata": {},
   "outputs": [],
   "source": [
    "key = f.read()\n",
    "\n",
    "genai.configure(api_key=key)"
   ]
  },
  {
   "cell_type": "code",
   "execution_count": 5,
   "metadata": {},
   "outputs": [
    {
     "name": "stdout",
     "output_type": "stream",
     "text": [
      "models/gemini-1.0-pro\n",
      "models/gemini-1.0-pro-001\n",
      "models/gemini-1.0-pro-latest\n",
      "models/gemini-1.0-pro-vision-latest\n",
      "models/gemini-1.5-flash-latest\n",
      "models/gemini-1.5-pro-latest\n",
      "models/gemini-pro\n",
      "models/gemini-pro-vision\n"
     ]
    }
   ],
   "source": [
    "for m in genai.list_models():\n",
    "  if 'generateContent' in m.supported_generation_methods:\n",
    "    print(m.name)"
   ]
  },
  {
   "cell_type": "code",
   "execution_count": 6,
   "metadata": {},
   "outputs": [],
   "source": [
    "model = genai.GenerativeModel(model_name=\"gemini-pro\")"
   ]
  },
  {
   "cell_type": "code",
   "execution_count": 7,
   "metadata": {},
   "outputs": [
    {
     "name": "stdout",
     "output_type": "stream",
     "text": [
      "planet.\n"
     ]
    }
   ],
   "source": [
    "user_prompt = \"\"\"Complete the following:\n",
    "                In our solar system, Earth is a \"\"\"\n",
    "\n",
    "response = model.generate_content(user_prompt)\n",
    "\n",
    "print(response.text)"
   ]
  },
  {
   "cell_type": "code",
   "execution_count": 8,
   "metadata": {},
   "outputs": [
    {
     "name": "stdout",
     "output_type": "stream",
     "text": [
      "['oneplus', '8 gb ram', 'snapdragon 8 plus gen 1']\n"
     ]
    }
   ],
   "source": [
    "def process_prompt(prompt):\n",
    "    user_prompt = f\"\"\"remove stop words from the {prompt},\n",
    "                    lower case the text,\n",
    "                    include brand names,\n",
    "                    remove the elements which are not mobile specs, \n",
    "                    mobile and smartphone words also,\n",
    "                    and give just specs in seperate lines,\n",
    "                    dont include : and - \"\"\"\n",
    "\n",
    "\n",
    "    responses = model.generate_content(user_prompt)\n",
    "\n",
    "    specs_list = responses.text.strip().split(\"\\n\")\n",
    "\n",
    "    return specs_list\n",
    "\n",
    "prompt = \"I want a Oneplus mobile with 8 GB RAM and Snapdragon 8 Plus Gen 1\"\n",
    "\n",
    "print(process_prompt(prompt))\n",
    "\n",
    "#Oneplus\n",
    "#8 GB RAM\n",
    "#Snapdragon 8 Plus Gen 1"
   ]
  }
 ],
 "metadata": {
  "kernelspec": {
   "display_name": "base",
   "language": "python",
   "name": "python3"
  },
  "language_info": {
   "codemirror_mode": {
    "name": "ipython",
    "version": 3
   },
   "file_extension": ".py",
   "mimetype": "text/x-python",
   "name": "python",
   "nbconvert_exporter": "python",
   "pygments_lexer": "ipython3",
   "version": "3.11.5"
  }
 },
 "nbformat": 4,
 "nbformat_minor": 2
}
